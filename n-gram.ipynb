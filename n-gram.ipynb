{
 "cells": [
  {
   "cell_type": "code",
   "execution_count": 1,
   "metadata": {},
   "outputs": [],
   "source": [
    "words = open('names.txt', 'r').read().splitlines()"
   ]
  },
  {
   "cell_type": "code",
   "execution_count": 2,
   "metadata": {},
   "outputs": [],
   "source": [
    "import torch"
   ]
  },
  {
   "cell_type": "code",
   "execution_count": 24,
   "metadata": {},
   "outputs": [],
   "source": [
    "gram_size = 5"
   ]
  },
  {
   "cell_type": "code",
   "execution_count": 25,
   "metadata": {},
   "outputs": [],
   "source": [
    "prefixes = set()\n",
    "letters = set()\n",
    "awords = [ '.' * (gram_size - 1) + w + '.' for w in words]\n",
    "for aw in awords:\n",
    "  max_i = len(aw) - (gram_size - 1)\n",
    "  for i in range(0, max_i):\n",
    "    end = i + (gram_size - 1)\n",
    "    prefix = aw[i:end]\n",
    "    letter = aw[end]\n",
    "    prefixes.add(prefix)\n",
    "    letters.add(letter)"
   ]
  },
  {
   "cell_type": "code",
   "execution_count": 26,
   "metadata": {},
   "outputs": [
    {
     "data": {
      "text/plain": [
       "torch.Size([22135, 27])"
      ]
     },
     "execution_count": 26,
     "metadata": {},
     "output_type": "execute_result"
    }
   ],
   "source": [
    "N = torch.zeros((len(prefixes), len(letters)), dtype=torch.int32)\n",
    "N.shape"
   ]
  },
  {
   "cell_type": "code",
   "execution_count": 27,
   "metadata": {},
   "outputs": [],
   "source": [
    "ptoi = {s:i for i,s in enumerate(prefixes)}\n",
    "itop = {i:s for s,i in ptoi.items()}\n",
    "ltoi = {s:i for i,s in enumerate(letters)}\n",
    "itol = {i:s for s,i in ltoi.items()}"
   ]
  },
  {
   "cell_type": "code",
   "execution_count": 28,
   "metadata": {},
   "outputs": [],
   "source": [
    "for aw in awords:\n",
    "  max_i = len(aw) - (gram_size - 1)\n",
    "  for i in range(0, max_i):\n",
    "    end = i + (gram_size - 1)\n",
    "    prefix = aw[i:end]\n",
    "    letter = aw[end]\n",
    "    N[ptoi[prefix], ltoi[letter]] += 1"
   ]
  },
  {
   "cell_type": "code",
   "execution_count": 30,
   "metadata": {},
   "outputs": [],
   "source": [
    "P = N.float()\n",
    "P /= P.sum(1, keepdims=True)"
   ]
  },
  {
   "cell_type": "code",
   "execution_count": 31,
   "metadata": {},
   "outputs": [
    {
     "name": "stdout",
     "output_type": "stream",
     "text": [
      "athzir\n",
      "jimmie\n",
      "betel\n",
      "lucilie\n",
      "gianna\n",
      "zaydynn\n",
      "kell\n",
      "alieanna\n",
      "jaycie\n",
      "knovan\n",
      "duvan\n",
      "isabel\n",
      "ryver\n",
      "loy\n",
      "taj\n",
      "aelynn\n",
      "jacela\n",
      "lindy\n",
      "nicte\n",
      "arrah\n",
      "ainsley\n",
      "aedyn\n",
      "risha\n",
      "rudi\n",
      "trinika\n"
     ]
    }
   ],
   "source": [
    "g = torch.Generator() #.manual_seed(2147483642)\n",
    "\n",
    "for i in range(25):\n",
    "  out = []\n",
    "  prefix = '.' * (gram_size - 1)\n",
    "  while True:\n",
    "    ix_prefix = ptoi[prefix]\n",
    "    p = P[ix_prefix]\n",
    "    ix_letter = torch.multinomial(p, num_samples=1, replacement=True, generator=g).item()\n",
    "    l = itol[ix_letter]\n",
    "    if l == '.':\n",
    "      break\n",
    "    out.append(l)\n",
    "    prefix = prefix[1:] + l\n",
    "  print(''.join(out))"
   ]
  },
  {
   "cell_type": "code",
   "execution_count": 32,
   "metadata": {},
   "outputs": [
    {
     "name": "stdout",
     "output_type": "stream",
     "text": [
      "log_likelihood=tensor(-366295.2500)\n",
      "nll=tensor(366295.2500)\n",
      "1.605530023574829\n"
     ]
    }
   ],
   "source": [
    "log_likelihood = 0.0\n",
    "n = 0\n",
    "\n",
    "for aw in awords:\n",
    "  max_i = len(aw) - (gram_size - 1)\n",
    "  for i in range(0, max_i):\n",
    "    end = i + (gram_size - 1)\n",
    "    prefix = aw[i:end]\n",
    "    letter = aw[end]\n",
    "    prob = P[ptoi[prefix], ltoi[letter]]\n",
    "    logprob = torch.log(prob)\n",
    "    log_likelihood += logprob\n",
    "    n += 1\n",
    "    #print(f'{ch1}{ch2}: {prob:.4f} {logprob:.4f}')\n",
    "\n",
    "print(f'{log_likelihood=}')\n",
    "nll = -log_likelihood\n",
    "print(f'{nll=}')\n",
    "print(f'{nll/n}')"
   ]
  },
  {
   "cell_type": "code",
   "execution_count": 22,
   "metadata": {},
   "outputs": [
    {
     "data": {
      "text/plain": [
       "1596429"
      ]
     },
     "execution_count": 22,
     "metadata": {},
     "output_type": "execute_result"
    }
   ],
   "source": [
    "N.numel()"
   ]
  },
  {
   "cell_type": "code",
   "execution_count": null,
   "metadata": {},
   "outputs": [],
   "source": []
  }
 ],
 "metadata": {
  "kernelspec": {
   "display_name": "Python 3",
   "language": "python",
   "name": "python3"
  },
  "language_info": {
   "codemirror_mode": {
    "name": "ipython",
    "version": 3
   },
   "file_extension": ".py",
   "mimetype": "text/x-python",
   "name": "python",
   "nbconvert_exporter": "python",
   "pygments_lexer": "ipython3",
   "version": "3.11.5"
  }
 },
 "nbformat": 4,
 "nbformat_minor": 2
}
