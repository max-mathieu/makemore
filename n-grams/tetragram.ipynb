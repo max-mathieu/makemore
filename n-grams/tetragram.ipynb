{
 "cells": [
  {
   "cell_type": "code",
   "execution_count": 1,
   "metadata": {},
   "outputs": [],
   "source": [
    "words = open('../names.txt', 'r').read().splitlines()"
   ]
  },
  {
   "cell_type": "code",
   "execution_count": 2,
   "metadata": {},
   "outputs": [],
   "source": [
    "import torch"
   ]
  },
  {
   "cell_type": "code",
   "execution_count": 3,
   "metadata": {},
   "outputs": [],
   "source": [
    "N = torch.zeros((27, 27, 27, 27), dtype=torch.int32)\n",
    "# not very optimal, many will be at 0"
   ]
  },
  {
   "cell_type": "code",
   "execution_count": 4,
   "metadata": {},
   "outputs": [],
   "source": [
    "chars = sorted(list(set(''.join(words))))\n",
    "stoi = {s:i+1 for i,s in enumerate(chars)}\n",
    "stoi['.'] = 0\n",
    "itos = {i:s for s,i in stoi.items()}"
   ]
  },
  {
   "cell_type": "code",
   "execution_count": 5,
   "metadata": {},
   "outputs": [],
   "source": [
    "for w in words:\n",
    "  chs = list('...') + list(w) + ['.']\n",
    "  for ch1, ch2, ch3, ch4 in zip(chs, chs[1:], chs[2:], chs[3:]):\n",
    "    ix1 = stoi[ch1]\n",
    "    ix2 = stoi[ch2]\n",
    "    ix3 = stoi[ch3]\n",
    "    ix4 = stoi[ch4]\n",
    "    N[ix1, ix2, ix3, ix4] += 1"
   ]
  },
  {
   "cell_type": "code",
   "execution_count": 6,
   "metadata": {},
   "outputs": [],
   "source": [
    "P = N.float()\n",
    "P /= P.sum(3, keepdims=True)"
   ]
  },
  {
   "cell_type": "code",
   "execution_count": 10,
   "metadata": {},
   "outputs": [
    {
     "name": "stdout",
     "output_type": "stream",
     "text": [
      "ryo.\n",
      "amya.\n",
      "zayionnox.\n",
      "ney.\n",
      "xin.\n",
      "irwinfinon.\n",
      "keplina.\n",
      "adanial.\n",
      "hundrianna.\n",
      "johail.\n",
      "carik.\n",
      "kah.\n",
      "salyaasiel.\n",
      "zamahka.\n",
      "khod.\n",
      "milen.\n",
      "mika.\n",
      "dalbie.\n",
      "quina.\n",
      "arrishahzi.\n",
      "ana.\n",
      "kard.\n",
      "abreylanorand.\n",
      "brie.\n",
      "desmeen.\n"
     ]
    }
   ],
   "source": [
    "g = torch.Generator().manual_seed(2147483642)\n",
    "\n",
    "for i in range(25):\n",
    "  \n",
    "  out = []\n",
    "  ix1 = 0\n",
    "  ix2 = 0\n",
    "  ix3 = 0\n",
    "  while True:\n",
    "    p = P[ix1, ix2, ix3]\n",
    "    ix = torch.multinomial(p, num_samples=1, replacement=True, generator=g).item()\n",
    "    out.append(itos[ix])\n",
    "    if ix == 0:\n",
    "      break\n",
    "    ix1 = ix2\n",
    "    ix2 = ix3\n",
    "    ix3 = ix\n",
    "  print(''.join(out))"
   ]
  },
  {
   "cell_type": "code",
   "execution_count": 11,
   "metadata": {},
   "outputs": [
    {
     "name": "stdout",
     "output_type": "stream",
     "text": [
      "log_likelihood=tensor(-429832.4688)\n",
      "nll=tensor(429832.4688)\n",
      "1.884023666381836\n"
     ]
    }
   ],
   "source": [
    "log_likelihood = 0.0\n",
    "n = 0\n",
    "\n",
    "for w in words:\n",
    "  chs = ['.', '.', '.'] + list(w) + ['.']\n",
    "  for ch1, ch2, ch3, ch4 in zip(chs, chs[1:], chs[2:], chs[3:]):\n",
    "    ix1 = stoi[ch1]\n",
    "    ix2 = stoi[ch2]\n",
    "    ix3 = stoi[ch3]\n",
    "    ix4 = stoi[ch4]\n",
    "    prob = P[ix1, ix2, ix3, ix4]\n",
    "    logprob = torch.log(prob)\n",
    "    log_likelihood += logprob\n",
    "    n += 1\n",
    "    #print(f'{ch1}{ch2}: {prob:.4f} {logprob:.4f}')\n",
    "\n",
    "print(f'{log_likelihood=}')\n",
    "nll = -log_likelihood\n",
    "print(f'{nll=}')\n",
    "print(f'{nll/n}')"
   ]
  },
  {
   "cell_type": "code",
   "execution_count": 9,
   "metadata": {},
   "outputs": [
    {
     "data": {
      "text/plain": [
       "531441"
      ]
     },
     "execution_count": 9,
     "metadata": {},
     "output_type": "execute_result"
    }
   ],
   "source": [
    "N.numel()"
   ]
  },
  {
   "cell_type": "code",
   "execution_count": null,
   "metadata": {},
   "outputs": [],
   "source": []
  }
 ],
 "metadata": {
  "kernelspec": {
   "display_name": "Python 3",
   "language": "python",
   "name": "python3"
  },
  "language_info": {
   "codemirror_mode": {
    "name": "ipython",
    "version": 3
   },
   "file_extension": ".py",
   "mimetype": "text/x-python",
   "name": "python",
   "nbconvert_exporter": "python",
   "pygments_lexer": "ipython3",
   "version": "3.11.5"
  }
 },
 "nbformat": 4,
 "nbformat_minor": 2
}
