{
 "cells": [
  {
   "cell_type": "code",
   "execution_count": 2,
   "metadata": {},
   "outputs": [],
   "source": [
    "words = open('../names.txt', 'r').read().splitlines()"
   ]
  },
  {
   "cell_type": "code",
   "execution_count": 3,
   "metadata": {},
   "outputs": [],
   "source": [
    "import torch"
   ]
  },
  {
   "cell_type": "code",
   "execution_count": 31,
   "metadata": {},
   "outputs": [],
   "source": [
    "prefixes = set()\n",
    "letters = set()\n",
    "awords = [ '.' * 3 + w + '.' for w in words]\n",
    "for aw in awords:\n",
    "  max_i = len(aw) - 3\n",
    "  for i in range(0, max_i):\n",
    "    prefix = aw[i:i+3]\n",
    "    letter = aw[i+3]\n",
    "    prefixes.add(prefix)\n",
    "    letters.add(letter)"
   ]
  },
  {
   "cell_type": "code",
   "execution_count": 32,
   "metadata": {},
   "outputs": [
    {
     "data": {
      "text/plain": [
       "torch.Size([5686, 27])"
      ]
     },
     "execution_count": 32,
     "metadata": {},
     "output_type": "execute_result"
    }
   ],
   "source": [
    "N = torch.zeros((len(prefixes), len(letters)), dtype=torch.int32)\n",
    "N.shape"
   ]
  },
  {
   "cell_type": "code",
   "execution_count": 45,
   "metadata": {},
   "outputs": [],
   "source": [
    "ptoi = {s:i for i,s in enumerate(prefixes)}\n",
    "itop = {i:s for s,i in ptoi.items()}\n",
    "ltoi = {s:i for i,s in enumerate(letters)}\n",
    "itol = {i:s for s,i in ltoi.items()}"
   ]
  },
  {
   "cell_type": "code",
   "execution_count": 37,
   "metadata": {},
   "outputs": [],
   "source": [
    "for aw in awords:\n",
    "  max_i = len(aw) - 3\n",
    "  for i in range(0, max_i):\n",
    "    prefix = aw[i:i+3]\n",
    "    letter = aw[i+3]\n",
    "    N[ptoi[prefix], ltoi[letter]] += 1"
   ]
  },
  {
   "cell_type": "code",
   "execution_count": 39,
   "metadata": {},
   "outputs": [
    {
     "data": {
      "text/plain": [
       "'..'"
      ]
     },
     "execution_count": 39,
     "metadata": {},
     "output_type": "execute_result"
    }
   ],
   "source": [
    "P = N.float()\n",
    "P /= P.sum(1, keepdims=True)"
   ]
  },
  {
   "cell_type": "code",
   "execution_count": 48,
   "metadata": {},
   "outputs": [
    {
     "name": "stdout",
     "output_type": "stream",
     "text": [
      "deyrand\n",
      "pen\n",
      "georgynn\n",
      "adann\n",
      "celly\n",
      "jedano\n",
      "arter\n",
      "yazi\n",
      "semidennel\n",
      "jal\n",
      "ames\n",
      "oaklynn\n",
      "jaiah\n",
      "sylvatophillyne\n",
      "ayna\n",
      "islie\n",
      "nihai\n",
      "haziryn\n",
      "gurdy\n",
      "kharrissa\n",
      "johney\n",
      "kilindan\n",
      "ron\n",
      "jalon\n",
      "malynn\n"
     ]
    }
   ],
   "source": [
    "g = torch.Generator().manual_seed(2147483649)\n",
    "\n",
    "for i in range(25):\n",
    "  out = []\n",
    "  prefix = '.' * 3\n",
    "  while True:\n",
    "    ix_prefix = ptoi[prefix]\n",
    "    p = P[ix_prefix]\n",
    "    ix_letter = torch.multinomial(p, num_samples=1, replacement=True, generator=g).item()\n",
    "    l = itol[ix_letter]\n",
    "    if l == '.':\n",
    "      break\n",
    "    out.append(l)\n",
    "    prefix = prefix[1:] + l\n",
    "  print(''.join(out))"
   ]
  },
  {
   "cell_type": "code",
   "execution_count": 46,
   "metadata": {},
   "outputs": [
    {
     "name": "stdout",
     "output_type": "stream",
     "text": [
      "log_likelihood=tensor(-429832.4062)\n",
      "nll=tensor(429832.4062)\n",
      "1.8840234279632568\n"
     ]
    }
   ],
   "source": [
    "log_likelihood = 0.0\n",
    "n = 0\n",
    "\n",
    "for aw in awords:\n",
    "  max_i = len(aw) - 3\n",
    "  for i in range(0, max_i):\n",
    "    prefix = aw[i:i+3]\n",
    "    letter = aw[i+3]\n",
    "    prob = P[ptoi[prefix], ltoi[letter]]\n",
    "    logprob = torch.log(prob)\n",
    "    log_likelihood += logprob\n",
    "    n += 1\n",
    "    #print(f'{ch1}{ch2}: {prob:.4f} {logprob:.4f}')\n",
    "\n",
    "print(f'{log_likelihood=}')\n",
    "nll = -log_likelihood\n",
    "print(f'{nll=}')\n",
    "print(f'{nll/n}')"
   ]
  },
  {
   "cell_type": "code",
   "execution_count": 47,
   "metadata": {},
   "outputs": [
    {
     "data": {
      "text/plain": [
       "153522"
      ]
     },
     "execution_count": 47,
     "metadata": {},
     "output_type": "execute_result"
    }
   ],
   "source": [
    "N.numel()"
   ]
  }
 ],
 "metadata": {
  "kernelspec": {
   "display_name": "Python 3",
   "language": "python",
   "name": "python3"
  },
  "language_info": {
   "codemirror_mode": {
    "name": "ipython",
    "version": 3
   },
   "file_extension": ".py",
   "mimetype": "text/x-python",
   "name": "python",
   "nbconvert_exporter": "python",
   "pygments_lexer": "ipython3",
   "version": "3.11.5"
  }
 },
 "nbformat": 4,
 "nbformat_minor": 2
}
